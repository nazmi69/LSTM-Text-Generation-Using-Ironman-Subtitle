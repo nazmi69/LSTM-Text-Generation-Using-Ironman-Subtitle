{
 "cells": [
  {
   "cell_type": "code",
   "execution_count": 1,
   "metadata": {
    "collapsed": false
   },
   "outputs": [
    {
     "name": "stderr",
     "output_type": "stream",
     "text": [
      "Using TensorFlow backend.\n"
     ]
    }
   ],
   "source": [
    "import re\n",
    "import numpy as np\n",
    "import tensorflow as tf\n",
    "import time\n",
    "import helpers\n",
    "import matplotlib.pyplot as plt\n",
    "import seaborn as sns\n",
    "\n",
    "import sys\n",
    "from keras.models import Sequential\n",
    "from keras.layers import Dense\n",
    "from keras.layers import Dropout\n",
    "from keras.layers import LSTM\n",
    "from keras.callbacks import ModelCheckpoint\n",
    "from keras.utils import np_utils"
   ]
  },
  {
   "cell_type": "code",
   "execution_count": 2,
   "metadata": {
    "collapsed": true
   },
   "outputs": [],
   "source": [
    "with open('iron_man.srt', 'r') as fopen:\n",
    "    text = fopen.read().split('\\n')\n",
    "text = list(filter(None, text))"
   ]
  },
  {
   "cell_type": "code",
   "execution_count": 3,
   "metadata": {
    "collapsed": false
   },
   "outputs": [],
   "source": [
    "# Any first character in a string is digit or '\\r' or '<', we remove the string\n",
    "# but we must start from the back, or later python will throw exception because the index no longer exist\n",
    "for i in reversed(range(len(text))):\n",
    "    if text[i][0].isdigit() or text[i][0] == '\\r' or text[i][0] == '<' or text[i][-1] == '>' or text[i][0] == '-':\n",
    "        del text[i]\n",
    "        \n",
    "# Replace all '\\r' with empty character\n",
    "text = [i.replace('\\r', '') for i in text]\n",
    "\n",
    "# Strip spaces with empty character\n",
    "text = [i.strip() for i in text]\n",
    "\n",
    "# Remove non ascii from our string\n",
    "text = [re.sub(r'[^\\x00-\\x7F]+','', i) for i in text]"
   ]
  },
  {
   "cell_type": "code",
   "execution_count": 4,
   "metadata": {
    "collapsed": false
   },
   "outputs": [],
   "source": [
    "new_text = []\n",
    "for i in text:\n",
    "    for j in i.split():\n",
    "        new_text.append(j)"
   ]
  },
  {
   "cell_type": "code",
   "execution_count": 5,
   "metadata": {
    "collapsed": false
   },
   "outputs": [],
   "source": [
    "new_char = []\n",
    "for i in new_text:\n",
    "    for j in i:\n",
    "        new_char.append(j)\n",
    "    new_char.append(\" \")"
   ]
  },
  {
   "cell_type": "code",
   "execution_count": 6,
   "metadata": {
    "collapsed": true
   },
   "outputs": [],
   "source": [
    "chars = sorted(list(set(new_text)))\n",
    "char_to_int = dict((c, i) for i, c in enumerate(chars))\n",
    "int_to_char = dict((i, c) for i, c in enumerate(chars))"
   ]
  },
  {
   "cell_type": "code",
   "execution_count": 7,
   "metadata": {
    "collapsed": true
   },
   "outputs": [],
   "source": [
    "n_chars = len(new_text)\n",
    "n_vocab = len(new_char)"
   ]
  },
  {
   "cell_type": "code",
   "execution_count": 8,
   "metadata": {
    "collapsed": false
   },
   "outputs": [
    {
     "name": "stdout",
     "output_type": "stream",
     "text": [
      "Total Characters:  7018\n",
      "Total Vocab:  46486\n"
     ]
    }
   ],
   "source": [
    "print(\"Total Characters: \", n_chars)\n",
    "print(\"Total Vocab: \", n_vocab)"
   ]
  },
  {
   "cell_type": "code",
   "execution_count": 9,
   "metadata": {
    "collapsed": true
   },
   "outputs": [],
   "source": [
    "seq_length = 100"
   ]
  },
  {
   "cell_type": "code",
   "execution_count": 10,
   "metadata": {
    "collapsed": true
   },
   "outputs": [],
   "source": [
    "dataX = []\n",
    "dataY = []"
   ]
  },
  {
   "cell_type": "code",
   "execution_count": 11,
   "metadata": {
    "collapsed": true
   },
   "outputs": [],
   "source": [
    "for i in range(0, n_chars - seq_length, 1):\n",
    "\tseq_in = new_text[i:i + seq_length]\n",
    "\tseq_out = new_text[i + seq_length]\n",
    "\tdataX.append([char_to_int[char] for char in seq_in])\n",
    "\tdataY.append(char_to_int[seq_out])"
   ]
  },
  {
   "cell_type": "code",
   "execution_count": 12,
   "metadata": {
    "collapsed": false
   },
   "outputs": [
    {
     "name": "stdout",
     "output_type": "stream",
     "text": [
      "Total Patterns:  6918\n"
     ]
    }
   ],
   "source": [
    "n_patterns = len(dataX)\n",
    "print(\"Total Patterns: \", n_patterns)"
   ]
  },
  {
   "cell_type": "code",
   "execution_count": 13,
   "metadata": {
    "collapsed": false
   },
   "outputs": [],
   "source": [
    "X = np.reshape(dataX, (n_patterns, seq_length, 1))\n",
    "X = X / float(n_vocab)\n",
    "y = np_utils.to_categorical(dataY)"
   ]
  },
  {
   "cell_type": "code",
   "execution_count": 14,
   "metadata": {
    "collapsed": false
   },
   "outputs": [
    {
     "name": "stdout",
     "output_type": "stream",
     "text": [
      "Epoch 1/2\n",
      "94s - loss: 3.5473e-04\n",
      "Epoch 2/2\n",
      "89s - loss: 3.5473e-04\n"
     ]
    },
    {
     "data": {
      "text/plain": [
       "<keras.callbacks.History at 0x128026cf8>"
      ]
     },
     "execution_count": 14,
     "metadata": {},
     "output_type": "execute_result"
    }
   ],
   "source": [
    "model = Sequential()\n",
    "model.add(LSTM(32, input_shape=(X.shape[1], X.shape[2]), return_sequences=True))\n",
    "model.add(Dropout(0.2))\n",
    "model.add(LSTM(64))\n",
    "model.add(Dropout(0.2))\n",
    "model.add(Dense(y.shape[1], activation='softmax'))\n",
    "model.compile(loss='mean_squared_error', optimizer='adam')\n",
    "model.fit(X, y, epochs=2, batch_size=100, verbose=2)"
   ]
  },
  {
   "cell_type": "code",
   "execution_count": 15,
   "metadata": {
    "collapsed": false,
    "scrolled": false
   },
   "outputs": [
    {
     "name": "stdout",
     "output_type": "stream",
     "text": [
      "Seed:\n",
      "mabuk. Aku rasa aku boleh sembuhkan kau. Itu pekerjaanku. Membaiki. Dan semua yang mengalihkan perhatianmu? Uh... Aku akan lupakan mereka seketika. Jarvis. Hei. Semuanya selamat, Tuan. Ada yang lain? Kau tahu apa yang harus dilakukan. Peraturan \"Piring Bersih\", Tuan? Buang masa, ini hari Natal. Ya, ya. Baik, setakat ini, kau suka? Sudah tentu. Oh! Itulah tidur Tak apa, tak apa. It's okay. Tidak, lihat. lepaskan benda itu dari dadaku,</i>, Untuk berkongsi semua perasaan... dan pengalamanku dengan seseorang, seperti berkongsi beban itu menjadi dua. Seperti ular yang menelan ekornya sendiri. Semuanya kembali seperti mula. Dan... dan fakta yang kau dah mampu...\n"
     ]
    }
   ],
   "source": [
    "start = np.random.randint(0, len(dataX)-1)\n",
    "pattern = dataX[start]\n",
    "print(\"Seed:\")\n",
    "print(' '.join([int_to_char[value] for value in pattern]))"
   ]
  },
  {
   "cell_type": "code",
   "execution_count": 19,
   "metadata": {
    "collapsed": false
   },
   "outputs": [
    {
     "name": "stdout",
     "output_type": "stream",
     "text": [
      "akuakuakuakuakuakuakuakuakuakuakuakuakuakuakuakuakuakuakuakuakuakuakuakuakuakuakuakuakuakuakuakuakuakuakuakuakuakuakuakuakuakuakuakuakuakuakuakuakuakuakuakuakuakuakuakuakuakuakuakuakuakuakuakuakuakuakuakuakuakuakuakuakuakuakuakuakuakuakuakuakuakuakuakuakuakuakuakuakuakuakuakuakuakuakuakuakuakuakuaku\n",
      "Done.\n"
     ]
    }
   ],
   "source": [
    "x = np.reshape(pattern, (1, len(pattern), 1))\n",
    "\n",
    "for i in range(100):\n",
    "\tx = x / float(n_vocab)\n",
    "\tprediction = model.predict(x, verbose=0)\n",
    "\tindex = np.argmax(prediction)\n",
    "\tresult = int_to_char[index]\n",
    "\tseq_in = [int_to_char[value] for value in pattern]\n",
    "\tsys.stdout.write(result)\n",
    "\tpattern.append(index)\n",
    "\tpattern = pattern[1:len(pattern)]\n",
    "print(\"\\nDone.\")"
   ]
  },
  {
   "cell_type": "code",
   "execution_count": null,
   "metadata": {
    "collapsed": true
   },
   "outputs": [],
   "source": []
  }
 ],
 "metadata": {
  "anaconda-cloud": {},
  "kernelspec": {
   "display_name": "Python [conda root]",
   "language": "python",
   "name": "conda-root-py"
  },
  "language_info": {
   "codemirror_mode": {
    "name": "ipython",
    "version": 3
   },
   "file_extension": ".py",
   "mimetype": "text/x-python",
   "name": "python",
   "nbconvert_exporter": "python",
   "pygments_lexer": "ipython3",
   "version": "3.5.2"
  }
 },
 "nbformat": 4,
 "nbformat_minor": 1
}
